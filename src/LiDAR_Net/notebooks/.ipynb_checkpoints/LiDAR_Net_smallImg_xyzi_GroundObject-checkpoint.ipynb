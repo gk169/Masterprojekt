{
 "cells": [
  {
   "cell_type": "markdown",
   "metadata": {},
   "source": [
    "# LiDAR-Net"
   ]
  },
  {
   "cell_type": "markdown",
   "metadata": {},
   "source": [
    "## Create network"
   ]
  },
  {
   "cell_type": "code",
   "execution_count": 2,
   "metadata": {},
   "outputs": [],
   "source": [
    "import tensorflow as tf\n",
    "import numpy as np\n",
    "import matplotlib.pyplot as plt\n",
    "from tensorflow.keras.layers import Input, Conv2D, AveragePooling2D, Conv2DTranspose\n",
    "from tensorflow.keras.layers import BatchNormalization, LeakyReLU, Dropout\n",
    "from tensorflow.keras.models import Model\n",
    "from tensorflow.keras.optimizers import Adam\n",
    "from tensorflow.keras import backend as K\n",
    "import os\n",
    "import pcl\n",
    "import math\n",
    "\n",
    "from sklearn.model_selection import train_test_split\n",
    "from sklearn.utils import shuffle"
   ]
  },
  {
   "cell_type": "code",
   "execution_count": 3,
   "metadata": {},
   "outputs": [],
   "source": [
    "class ResContextBlock(tf.keras.Model):\n",
    "    def __init__(self, out_filters):\n",
    "        super(ResContextBlock, self).__init__()\n",
    "        self.conv1 = Conv2D(out_filters, kernel_size=(1, 1), strides=1)\n",
    "        self.act1 = LeakyReLU()\n",
    "\n",
    "        self.conv2 = Conv2D(out_filters, kernel_size=(3,3), padding='same')\n",
    "        self.act2 = LeakyReLU()\n",
    "        self.bn1 = BatchNormalization()\n",
    "\n",
    "        self.conv3 = Conv2D(out_filters, kernel_size=(3,3), dilation_rate=2, padding='same')\n",
    "        self.act3 = LeakyReLU()\n",
    "        self.bn2 = BatchNormalization()\n",
    "\n",
    "\n",
    "    def call(self, x):\n",
    "\n",
    "        shortcut = self.conv1(x)\n",
    "        shortcut = self.act1(shortcut)\n",
    "\n",
    "        resA = self.conv2(shortcut)\n",
    "        resA = self.act2(resA)\n",
    "        resA1 = self.bn1(resA)\n",
    "\n",
    "        resA = self.conv3(resA1)\n",
    "        resA = self.act3(resA)\n",
    "        resA2 = self.bn2(resA)\n",
    "\n",
    "        output = shortcut + resA2\n",
    "        return output"
   ]
  },
  {
   "cell_type": "code",
   "execution_count": 4,
   "metadata": {},
   "outputs": [],
   "source": [
    "class ResBlock(tf.keras.Model):\n",
    "    def __init__(self, out_filters, dropout_rate, kernel_size=(3, 3), stride=1,\n",
    "                 pooling=True, drop_out=True):\n",
    "        super(ResBlock, self).__init__()\n",
    "        self.pooling = pooling\n",
    "        self.drop_out = drop_out\n",
    "        self.conv1 = Conv2D(out_filters, kernel_size=(1, 1), strides=stride)\n",
    "        self.act1 = LeakyReLU()\n",
    "\n",
    "        self.conv2 = Conv2D(out_filters, kernel_size=(3, 3), padding='same')\n",
    "        self.act2 = LeakyReLU()\n",
    "        self.bn1 = BatchNormalization()\n",
    "\n",
    "        self.conv3 = Conv2D(out_filters, kernel_size=(3,3),dilation_rate=2, padding='same')\n",
    "        self.act3 = LeakyReLU()\n",
    "        self.bn2 = BatchNormalization()\n",
    "\n",
    "        self.conv4 = Conv2D(out_filters, kernel_size=(2, 2), dilation_rate=2, padding='same')\n",
    "        self.act4 = LeakyReLU()\n",
    "        self.bn3 = BatchNormalization()\n",
    "\n",
    "        self.conv5 = Conv2D(out_filters, kernel_size=(1, 1))\n",
    "        self.act5 = LeakyReLU()\n",
    "        self.bn4 = BatchNormalization()\n",
    "\n",
    "        if pooling:\n",
    "            self.dropout = Dropout(dropout_rate)\n",
    "            self.pool = AveragePooling2D(pool_size=kernel_size, strides=2, padding='same')\n",
    "        else:\n",
    "            self.dropout = Dropout(dropout_rate)\n",
    "\n",
    "    def call(self, x):\n",
    "        shortcut = self.conv1(x)\n",
    "        shortcut = self.act1(shortcut)\n",
    "\n",
    "        resA = self.conv2(x)\n",
    "        resA = self.act2(resA)\n",
    "        resA1 = self.bn1(resA)\n",
    "\n",
    "        resA = self.conv3(resA1)\n",
    "        resA = self.act3(resA)\n",
    "        resA2 = self.bn2(resA)\n",
    "\n",
    "        resA = self.conv4(resA2)\n",
    "        resA = self.act4(resA)\n",
    "        resA3 = self.bn3(resA)\n",
    "\n",
    "        concat = tf.concat((resA1,resA2,resA3),axis=-1)\n",
    "        resA = self.conv5(concat)\n",
    "        resA = self.act5(resA)\n",
    "        resA = self.bn4(resA)\n",
    "        resA = shortcut + resA\n",
    "\n",
    "\n",
    "        if self.pooling:\n",
    "            if self.drop_out:\n",
    "                resB = self.dropout(resA)\n",
    "            else:\n",
    "                resB = resA\n",
    "            resB = self.pool(resB)\n",
    "            return resB, resA\n",
    "        else:\n",
    "            if self.drop_out:\n",
    "                resB = self.dropout(resA)\n",
    "            else:\n",
    "                resB = resA\n",
    "            return resB"
   ]
  },
  {
   "cell_type": "code",
   "execution_count": 5,
   "metadata": {},
   "outputs": [],
   "source": [
    "class UpBlock(tf.keras.Model):\n",
    "    def __init__(self, out_filters, dropout_rate, drop_out=True):\n",
    "        super(UpBlock, self).__init__()\n",
    "        self.drop_out = drop_out\n",
    "        self.out_filters = out_filters\n",
    "\n",
    "        self.dropout1 = Dropout(dropout_rate)\n",
    "        self.dropout2 = Dropout(dropout_rate)\n",
    "\n",
    "        self.conv1 = Conv2D(out_filters, kernel_size=(3,3), padding='same')\n",
    "        self.act1 = LeakyReLU()\n",
    "        self.bn1 = BatchNormalization()\n",
    "\n",
    "        self.conv2 = Conv2D(out_filters, kernel_size=(3,3),dilation_rate=2, padding='same')\n",
    "        self.act2 = LeakyReLU()\n",
    "        self.bn2 = BatchNormalization()\n",
    "\n",
    "        self.conv3 = Conv2D(out_filters, kernel_size=(2,2), dilation_rate=2,padding='same')\n",
    "        self.act3 = LeakyReLU()\n",
    "        self.bn3 = BatchNormalization()\n",
    "\n",
    "\n",
    "        self.conv4 = Conv2D(out_filters,kernel_size=(1,1))\n",
    "        self.act4 = LeakyReLU()\n",
    "        self.bn4 = BatchNormalization()\n",
    "        self.dropout3 = Dropout(dropout_rate)\n",
    "\n",
    "    def call(self, x, skip):\n",
    "        upA = tf.nn.depth_to_space(x,2)\n",
    "        if self.drop_out:\n",
    "            upA = self.dropout1(upA)\n",
    "\n",
    "        upB = tf.concat((upA,skip),axis=-1)\n",
    "        if self.drop_out:\n",
    "            upB = self.dropout2(upB)\n",
    "\n",
    "        upE = self.conv1(upB)\n",
    "        upE = self.act1(upE)\n",
    "        upE1 = self.bn1(upE)\n",
    "\n",
    "        upE = self.conv2(upE1)\n",
    "        upE = self.act2(upE)\n",
    "        upE2 = self.bn2(upE)\n",
    "\n",
    "        upE = self.conv3(upE2)\n",
    "        upE = self.act3(upE)\n",
    "        upE3 = self.bn3(upE)\n",
    "\n",
    "        concat = tf.concat((upE1,upE2,upE3),axis=-1)\n",
    "        upE = self.conv4(concat)\n",
    "        upE = self.act4(upE)\n",
    "        upE = self.bn4(upE)\n",
    "        if self.drop_out:\n",
    "            upE = self.dropout3(upE)\n",
    "\n",
    "        return upE"
   ]
  },
  {
   "cell_type": "code",
   "execution_count": 6,
   "metadata": {},
   "outputs": [
    {
     "name": "stdout",
     "output_type": "stream",
     "text": [
      "Model: \"model\"\n",
      "_________________________________________________________________\n",
      "Layer (type)                 Output Shape              Param #   \n",
      "=================================================================\n",
      "input_1 (InputLayer)         [(None, None, None, 4)]   0         \n",
      "_________________________________________________________________\n",
      "res_context_block (ResContex (None, None, None, 32)    18912     \n",
      "_________________________________________________________________\n",
      "res_context_block_1 (ResCont (None, None, None, 32)    19808     \n",
      "_________________________________________________________________\n",
      "res_context_block_2 (ResCont (None, None, None, 32)    19808     \n",
      "_________________________________________________________________\n",
      "res_block (ResBlock)         ((None, None, None, 64),  87360     \n",
      "_________________________________________________________________\n",
      "res_block_1 (ResBlock)       ((None, None, None, 128), 346752    \n",
      "_________________________________________________________________\n",
      "res_block_2 (ResBlock)       ((None, None, None, 128), 428672    \n",
      "_________________________________________________________________\n",
      "res_block_3 (ResBlock)       ((None, None, None, 256), 1381632   \n",
      "_________________________________________________________________\n",
      "res_block_4 (ResBlock)       (None, None, None, 256)   1709312   \n",
      "_________________________________________________________________\n",
      "up_block (UpBlock)           (None, None, None, 128)   633344    \n",
      "_________________________________________________________________\n",
      "up_block_1 (UpBlock)         (None, None, None, 128)   449024    \n",
      "_________________________________________________________________\n",
      "up_block_2 (UpBlock)         (None, None, None, 64)    158976    \n",
      "_________________________________________________________________\n",
      "up_block_3 (UpBlock)         (None, None, None, 32)    40064     \n",
      "_________________________________________________________________\n",
      "conv2d_50 (Conv2D)           (None, None, None, 3)     99        \n",
      "=================================================================\n",
      "Total params: 5,293,763\n",
      "Trainable params: 5,283,907\n",
      "Non-trainable params: 9,856\n",
      "_________________________________________________________________\n"
     ]
    }
   ],
   "source": [
    "INPUT_SHAPE = [None,None,4]\n",
    "# Input shape kitti dataset\n",
    "#INPUT_SHAPE = [2048,64,5]\n",
    "# input shape of bugalog data\n",
    "#INPUT_SHAPE = [1024,16,4]\n",
    "# min input shape\n",
    "#INPUT_SHAPE = [16,16,5]\n",
    "\n",
    "K.clear_session()\n",
    "\n",
    "input_layer = Input(shape=INPUT_SHAPE)\n",
    "x = ResContextBlock(32)(input_layer)\n",
    "x = ResContextBlock(32)(x)\n",
    "x = ResContextBlock(32)(x)\n",
    "x,resBlock1 = ResBlock(64, 0.2, pooling=True, drop_out=False)(x)\n",
    "\n",
    "# NOTE evetnuell resBlock1 tiefe verdoppeln um genauigkeit zu erhöhen\n",
    "x,resBlock2 = ResBlock(128, 0.2, pooling=True)(x)\n",
    "x,resBlock3 = ResBlock(128, 0.2, pooling=True)(x)\n",
    "x,resBlock4 = ResBlock(256, 0.2, pooling=True)(x)\n",
    "\n",
    "x = ResBlock(256, 0.2, pooling=False)(x)\n",
    "\n",
    "x = UpBlock(128, 0.2)(x,resBlock4)\n",
    "x = UpBlock(128, 0.2)(x,resBlock3)\n",
    "x = UpBlock(64, 0.2)(x,resBlock2)\n",
    "x = UpBlock(32, 0.2, drop_out=False)(x,resBlock1)\n",
    "\n",
    "logits = Conv2D(3, kernel_size=(1, 1), activation=\"softmax\")(x)\n",
    "\n",
    "model = Model(inputs=input_layer, outputs=logits)\n",
    "model.summary()"
   ]
  },
  {
   "cell_type": "code",
   "execution_count": 7,
   "metadata": {},
   "outputs": [],
   "source": [
    "#tf.keras.models.save_model(model, \"test\", save_format='h5')"
   ]
  },
  {
   "cell_type": "markdown",
   "metadata": {},
   "source": [
    "## Prepare data"
   ]
  },
  {
   "cell_type": "code",
   "execution_count": 8,
   "metadata": {},
   "outputs": [],
   "source": [
    "BatchSize = 4 # für 64er pc => BatchSize=4 #für 16er pc & 5,xMill. Param => 32 \n",
    "Epochs = 10 # 15 für 80% accuracy\n",
    "LearningRate = 1e-5"
   ]
  },
  {
   "cell_type": "code",
   "execution_count": 9,
   "metadata": {},
   "outputs": [],
   "source": [
    "from laserscan import LaserScan, SemLaserScan\n",
    "#from laserscanvis import LaserScanVis\n",
    "import yaml"
   ]
  },
  {
   "cell_type": "code",
   "execution_count": 10,
   "metadata": {},
   "outputs": [],
   "source": [
    "# Generate color map and lookup tables\n",
    "\n",
    "# Load configuration file\n",
    "CFG = yaml.safe_load(open('../config/semantic-kitti_GroundObject.yaml','r'))\n",
    "\n",
    "# Read kitti classes to color dictionary from configuration\n",
    "KittiToColorDict = CFG['color_map']\n",
    "\n",
    "# Read kitti to master project classes dictionary from configuration\n",
    "KittiToProjectDict = CFG['learning_map']\n",
    "\n",
    "# Read master project to kitti dictionary from configuration\n",
    "ProjectToKittiDict = CFG['learning_map_inv']\n",
    "\n",
    "# Create lookup table for kitti classes to color\n",
    "maxkeyColor = max(KittiToColorDict.keys()) + 100 # +100 hack making lut bigger in case there are unknown labels\n",
    "KittiToColor_LUT = np.zeros((maxkeyColor, 3), dtype=np.uint8)\n",
    "KittiToColor_LUT[list(KittiToColorDict.keys())] = list(KittiToColorDict.values())\n",
    "\n",
    "# Create lookup table for kitti classes to master project classes\n",
    "maxkey = max(KittiToProjectDict.keys()) + 100 # +100 hack making lut bigger in case there are unknown labels \n",
    "maxvalue = max(KittiToProjectDict.values())\n",
    "KittiToProject_LUT = np.zeros((maxkey), dtype=np.int32)\n",
    "KittiToProject_LUT[list(KittiToProjectDict.keys())] = list(KittiToProjectDict.values())\n",
    "\n",
    "# Create lookup table for master project classes to kitti classes\n",
    "maxkeyInv = max(ProjectToKittiDict.keys()) + 100 # +100 hack making lut bigger in case there are unknown labels\n",
    "ProjectToKitti_LUT = np.zeros((maxkeyInv), dtype=np.int32)\n",
    "ProjectToKitti_LUT[list(ProjectToKittiDict.keys())] = list(ProjectToKittiDict.values())"
   ]
  },
  {
   "cell_type": "code",
   "execution_count": 11,
   "metadata": {},
   "outputs": [],
   "source": [
    "def getSampleArrayFromPointCloud (PointCloud, sample_path):\n",
    "    # Load point cloud from bin\n",
    "    PointCloud.open_scan(sample_path)\n",
    "    \n",
    "    xyz = PointCloud.proj_xyz.copy()\n",
    "    # Get intensity and range from point cloud\n",
    "    Intensity = PointCloud.proj_remission.copy()\n",
    "    #Intensity = Intensity * 0.8\n",
    "    #Intensity[Intensity < 0] = -1\n",
    "    #Range = PointCloud.proj_range.copy()\n",
    "    \n",
    "    # Expand dimensions to enable concatenate\n",
    "    Intensity = np.expand_dims(Intensity,axis=2)\n",
    "    #Range = np.expand_dims(Range,axis=2)\n",
    "    \n",
    "    # Concatenate intensity and range\n",
    "    xyzi = np.concatenate((xyz, Intensity),axis=2)\n",
    "    xyzi = np.swapaxes(xyzi,0,1)\n",
    "    return xyzi"
   ]
  },
  {
   "cell_type": "code",
   "execution_count": 34,
   "metadata": {},
   "outputs": [],
   "source": [
    "def getSampleArrayFromPointCloud_pcd (PointCloud, sample_path):\n",
    "    # Load point cloud from pcd\n",
    "    cloud = pcl.load_XYZI(sample_path)\n",
    "    cloud = cloud.to_array()\n",
    "    # Get points and intensity (remission) from pcd point cloud\n",
    "    points = cloud[:, 0:3]    # get xyz\n",
    "    \n",
    "    #points[:,2] = points[:,2] - 1.13\n",
    "    #camera 1,90\n",
    "    #kitty 1,73\n",
    "    #camera zu top +0,53\n",
    "    #top 2,43\n",
    "    #top zu front -1,83\n",
    "    #front 0,6\n",
    "    #front zu kitti 1,13\n",
    "    #top zu kitti -0,7\n",
    "    \n",
    "    remissions = cloud[:, 3]/255 #normal remissions\n",
    "    \n",
    "    # Set points and remission to PointCloud\n",
    "    PointCloud.set_points(points, remissions)\n",
    "    \n",
    "    xyz = PointCloud.proj_xyz.copy()\n",
    "    xyz[:,:,2] = xyz[:,:,2] -1.13 #+0.7 #- 1.13\n",
    "    \n",
    "    # Get intensity and range from point cloud\n",
    "    Intensity = PointCloud.proj_remission.copy()\n",
    "    #Range = PointCloud.proj_range.copy()\n",
    "\n",
    "    #remissions max 100:\n",
    "    #Intensity_orig = Intensity.copy()\n",
    "    #print(Intensity.shape)\n",
    "    #print(np.max(Intensity))\n",
    "    #Intensity[Intensity > 100] = -1 # not reflective elements\n",
    "    #Intensity[Intensity <= 100] = -1 # reflective elemtns\n",
    "    #Intensity = Intensity/np.max(Intensity)\n",
    "    #Intensity[Intensity < 0] = -1\n",
    "    #print(np.max(Intensity))\n",
    "    #print(np.min(Intensity))\n",
    "    \n",
    "    #Range[Intensity_orig > 100] = -1# not reflective\n",
    "    #Range[Intensity_orig <= 100] = -1 # reflective\n",
    "    \n",
    "    # Expand dimensions to enable concatenate\n",
    "    Intensity = np.expand_dims(Intensity,axis=2)\n",
    "    #Range = np.expand_dims(Range,axis=2)\n",
    "    \n",
    "    # Concatenate intensity and range\n",
    "    xyzi = np.concatenate((xyz, Intensity),axis=2)\n",
    "    xyzi = np.swapaxes(xyzi,0,1)\n",
    "    return xyzi"
   ]
  },
  {
   "cell_type": "code",
   "execution_count": 13,
   "metadata": {},
   "outputs": [],
   "source": [
    "def getLabelArrayFromPointCloud(PointCloud, label_path):\n",
    "    # Load point cloud from bin\n",
    "    PointCloud.open_label(label_path)\n",
    "    \n",
    "    # Get labels from point cloud\n",
    "    Labels = PointCloud.proj_sem_label.copy()\n",
    "    \n",
    "    # Map kitti classes to project classes\n",
    "    Labels = KittiToProject_LUT[Labels]\n",
    "    Labels = np.swapaxes(Labels,0,1)\n",
    "    Labels = tf.keras.utils.to_categorical(Labels,num_classes=maxvalue+1)\n",
    "    return Labels"
   ]
  },
  {
   "cell_type": "code",
   "execution_count": 14,
   "metadata": {},
   "outputs": [],
   "source": [
    "def PointCloudGenerator(sample_paths, label_paths, batch_size, random=True): #add , pointcloud_size):\n",
    "    \"\"\"\n",
    "    sample_paths = [sample_path1, sample_path2, ...]\n",
    "    label_paths = [label_path1, label_path2, ...]\n",
    "    \"\"\"\n",
    "    \n",
    "    if random == True:\n",
    "        sample_paths, label_paths = shuffle(sample_paths, label_paths, random_state=42)\n",
    "        \n",
    "    num_samples = len(sample_paths)\n",
    "\n",
    "    while True: # Loop forever so the generator never terminates\n",
    "        # Get index to start each batch: [0, batch_size, 2*batch_size, ..., max multiple of batch_size <= num_samples]\n",
    "        for offset in range(0, num_samples, batch_size):\n",
    "            # Get the samples + paths you'll use in this batch\n",
    "            batch_sample_paths = sample_paths[offset:offset+batch_size]\n",
    "            batch_label_paths = label_paths[offset:offset+batch_size]\n",
    "            \n",
    "            # Initialise X_train and y_train arrays for this batch\n",
    "            X_train = []\n",
    "            y_train = []\n",
    "\n",
    "            # For each example\n",
    "            for batch_sample,_ in enumerate(batch_sample_paths):\n",
    "                \n",
    "                # Load points (X) and labels (y)\n",
    "                PointCloud = SemLaserScan(20, KittiToColorDict, project=True, W=2048, H=64)\n",
    "                \n",
    "                current_sample_path = batch_sample_paths[batch_sample]\n",
    "                current_label_path = batch_label_paths[batch_sample]\n",
    "                \n",
    "                current_sample = getSampleArrayFromPointCloud (PointCloud, current_sample_path)\n",
    "                current_sample = current_sample[0::2,0::4]\n",
    "                \n",
    "                current_label = getLabelArrayFromPointCloud(PointCloud, current_label_path)\n",
    "                current_label = current_label[0::2,0::4]\n",
    "                \n",
    "                # Add example to arrays\n",
    "                X_train.append(current_sample)\n",
    "                y_train.append(current_label)\n",
    "\n",
    "            # Make sure they're numpy arrays (as opposed to lists)\n",
    "            X_train = np.array(X_train)\n",
    "            y_train = np.array(y_train)\n",
    "\n",
    "            # The generator-y part: yield the next training batch            \n",
    "            yield X_train, y_train"
   ]
  },
  {
   "cell_type": "code",
   "execution_count": 15,
   "metadata": {},
   "outputs": [],
   "source": [
    "# Define labeled data path\n",
    "PATH = '/data/kitti_data/dataset/sequences/'\n",
    "# Get all labeled sequences\n",
    "sequences = [PATH + i for i in sorted(os.listdir(PATH))]\n",
    "\n",
    "sample_paths = []\n",
    "label_paths = []\n",
    "\n",
    "# foreach labeled sequence -> get sample and lable path\n",
    "for i in sequences:\n",
    "    sample = i + '/velodyne/'\n",
    "    label = i + '/labels/'\n",
    "    for s in sorted(os.listdir(sample)):\n",
    "        sample_paths.append(sample + s)\n",
    "    for s in sorted(os.listdir(label)):\n",
    "        label_paths.append(label + s)"
   ]
  },
  {
   "cell_type": "code",
   "execution_count": 16,
   "metadata": {},
   "outputs": [],
   "source": [
    "# Shuffle paths and split them into training & validation paths\n",
    "train_sample_paths, val_sample_paths, train_label_paths, val_label_paths = train_test_split(sample_paths, label_paths, train_size=0.8, random_state=42)\n",
    "val_sample_paths, eval_sample_paths, val_label_paths, eval_label_paths = train_test_split(val_sample_paths, val_label_paths, train_size=0.75, random_state=42)\n",
    "\n",
    "# Create training and validation generators\n",
    "datagen = PointCloudGenerator(train_sample_paths, train_label_paths, BatchSize)\n",
    "val_gen = PointCloudGenerator(val_sample_paths, val_label_paths, BatchSize)\n",
    "eval_gen = PointCloudGenerator(eval_sample_paths, eval_label_paths, BatchSize)"
   ]
  },
  {
   "cell_type": "markdown",
   "metadata": {},
   "source": [
    "## Train network"
   ]
  },
  {
   "cell_type": "code",
   "execution_count": 17,
   "metadata": {},
   "outputs": [],
   "source": [
    "Optimizer = Adam(learning_rate = LearningRate)\n",
    "# Configure model for training\n",
    "model.compile(\n",
    "loss='categorical_crossentropy',\n",
    "optimizer=Optimizer,\n",
    "metrics=['accuracy']\n",
    ")"
   ]
  },
  {
   "cell_type": "code",
   "execution_count": 32,
   "metadata": {},
   "outputs": [
    {
     "name": "stdout",
     "output_type": "stream",
     "text": [
      "Train for 4640 steps, validate for 870 steps\n",
      "Epoch 1/10\n",
      "4640/4640 [==============================] - 1329s 286ms/step - loss: 0.3251 - accuracy: 0.8815 - val_loss: 0.2038 - val_accuracy: 0.9299\n",
      "Epoch 2/10\n",
      "4640/4640 [==============================] - 1326s 286ms/step - loss: 0.1922 - accuracy: 0.9345 - val_loss: 0.1740 - val_accuracy: 0.9407\n",
      "Epoch 3/10\n",
      "4640/4640 [==============================] - 1335s 288ms/step - loss: 0.1699 - accuracy: 0.9423 - val_loss: 0.1587 - val_accuracy: 0.9462\n",
      "Epoch 4/10\n",
      "4640/4640 [==============================] - 1336s 288ms/step - loss: 0.1573 - accuracy: 0.9466 - val_loss: 0.1481 - val_accuracy: 0.9499\n",
      "Epoch 5/10\n",
      "4640/4640 [==============================] - 1338s 288ms/step - loss: 0.1487 - accuracy: 0.9495 - val_loss: 0.1411 - val_accuracy: 0.9523\n",
      "Epoch 6/10\n",
      "4640/4640 [==============================] - 1352s 291ms/step - loss: 0.1421 - accuracy: 0.9517 - val_loss: 0.1355 - val_accuracy: 0.9541\n",
      "Epoch 7/10\n",
      "4640/4640 [==============================] - 1346s 290ms/step - loss: 0.1366 - accuracy: 0.9535 - val_loss: 0.1310 - val_accuracy: 0.9555\n",
      "Epoch 8/10\n",
      "4640/4640 [==============================] - 1340s 289ms/step - loss: 0.1320 - accuracy: 0.9549 - val_loss: 0.1279 - val_accuracy: 0.9565\n",
      "Epoch 9/10\n",
      "4640/4640 [==============================] - 1345s 290ms/step - loss: 0.1279 - accuracy: 0.9562 - val_loss: 0.1235 - val_accuracy: 0.9578\n",
      "Epoch 10/10\n",
      "4640/4640 [==============================] - 1339s 289ms/step - loss: 0.1242 - accuracy: 0.9574 - val_loss: 0.1198 - val_accuracy: 0.9590\n"
     ]
    }
   ],
   "source": [
    "TrainingHistory = model.fit(\n",
    "    x=datagen,\n",
    "    epochs=Epochs,\n",
    "    verbose=1,\n",
    "    validation_data=val_gen,\n",
    "    steps_per_epoch = math.ceil(len(train_sample_paths)/BatchSize),\n",
    "    validation_steps = math.ceil(len(val_sample_paths)/BatchSize)\n",
    ")"
   ]
  },
  {
   "cell_type": "code",
   "execution_count": 33,
   "metadata": {},
   "outputs": [],
   "source": [
    "#model.save_weights('../weights/model_weights_IR_16_1024.h5')\n",
    "#model.save_weights('../weights/model_weights_IR_64_2048.h5')\n",
    "model.save_weights('../weights/model_weights_xyzi_16_1024_GroundDetection_inklTerain.h5')"
   ]
  },
  {
   "cell_type": "code",
   "execution_count": null,
   "metadata": {},
   "outputs": [],
   "source": [
    "#save model\n",
    "#model.save(\"../NewGroundDetectionXYZI\")\n",
    "#model.to_json()"
   ]
  },
  {
   "cell_type": "markdown",
   "metadata": {},
   "source": [
    "## Evaluate network general"
   ]
  },
  {
   "cell_type": "code",
   "execution_count": null,
   "metadata": {},
   "outputs": [],
   "source": [
    "#model.load_weights('../weights/model_weights_xyzi_16_1024.h5')\n",
    "#model.load_weights('../weights/model_weights_IR_64_2048.h5')\n",
    "Evaluation = model.evaluate(eval_gen, steps=math.ceil(len(eval_sample_paths)/BatchSize))\n",
    "print(Evaluation)"
   ]
  },
  {
   "cell_type": "markdown",
   "metadata": {},
   "source": [
    "## Evaluate network visual"
   ]
  },
  {
   "cell_type": "code",
   "execution_count": 37,
   "metadata": {},
   "outputs": [],
   "source": [
    "# Load reduced model weights\n",
    "model.load_weights('../weights/model_weights_xyzi_16_1024_GroundDetection_inklTerain.h5')\n",
    "\n",
    "# Load full model weights\n",
    "#model.load_weights('../weights/model_weights_IR_64_2048.h5')\n",
    "\n"
   ]
  },
  {
   "cell_type": "code",
   "execution_count": 63,
   "metadata": {},
   "outputs": [],
   "source": [
    "def PredictionToImage(Prediction):\n",
    "    # Map masterproject classes to kitti classes \n",
    "    Prediction = ProjectToKitti_LUT[Prediction]\n",
    "    # Map kitti classes to colors\n",
    "    Image = KittiToColor_LUT[Prediction]\n",
    "    Image = np.swapaxes(Image,0,1)\n",
    "    Image = Image[...,[2,1,0]]\n",
    "    return Image"
   ]
  },
  {
   "cell_type": "code",
   "execution_count": 64,
   "metadata": {},
   "outputs": [
    {
     "name": "stdout",
     "output_type": "stream",
     "text": [
      "(2048, 64, 4)\n"
     ]
    },
    {
     "data": {
      "image/png": "[encoded data removed]",
      "text/plain": [
       "<Figure size 432x288 with 1 Axes>"
      ]
     },
     "metadata": {
      "needs_background": "light"
     },
     "output_type": "display_data"
    },
    {
     "data": {
      "image/png": "[encoded data removed]",
      "text/plain": [
       "<Figure size 432x288 with 1 Axes>"
      ]
     },
     "metadata": {
      "needs_background": "light"
     },
     "output_type": "display_data"
    }
   ],
   "source": [
    "import matplotlib.pyplot as plt\n",
    "%matplotlib inline\n",
    "\n",
    "# Define path of test PoinCloud\n",
    "TestPath = '/data/kitti_data/dataset/sequences'\n",
    "CurrentTestPoinCloudPath = TestPath + '/04/velodyne/000008.bin'\n",
    "\n",
    "# Create test PointCloud\n",
    "TestPointCloud = SemLaserScan(20, KittiToColorDict, project=True, W=2048, H=64)\n",
    "\n",
    "# Create full sample array from PoinCloud\n",
    "CurrentTestSampleFull = getSampleArrayFromPointCloud (TestPointCloud, CurrentTestPoinCloudPath)\n",
    "print(CurrentTestSampleFull.shape)\n",
    "#print(np.min(CurrentTestSampleFull[:,:,2]))\n",
    "CurrentTestSampleFull = np.expand_dims(CurrentTestSampleFull, axis=0)\n",
    "\n",
    "# Create reduced sample array from full sample array\n",
    "#print(CurrentTestSampleFull.shape)\n",
    "CurrentTestSampleReduced = CurrentTestSampleFull[0::,0::2,0::4]\n",
    "#print(np.min(CurrentTestSampleReduced[0,:,:,2]))\n",
    "#print(CurrentTestSampleReduced.shape)\n",
    "\n",
    "# Predict full PointCloud\n",
    "PredictionFull = model.predict(CurrentTestSampleFull)\n",
    "PredictionFull = np.argmax(PredictionFull,axis=3)\n",
    "PredictionFull = PredictionFull.squeeze()\n",
    "\n",
    "# Predict reduced PointCloud\n",
    "PredictionReduced = model.predict(CurrentTestSampleReduced)\n",
    "PredictionReduced = np.argmax(PredictionReduced,axis=3)\n",
    "PredictionReduced = PredictionReduced.squeeze()\n",
    "\n",
    "# Create images of predictions\n",
    "PredictionFullImage = PredictionToImage(PredictionFull)\n",
    "PredictionReducedImage = PredictionToImage(PredictionReduced)\n",
    "\n",
    "# [optional] Spot special classes in image\n",
    "#ids = np.where((CurrentTestSampleReduced[0,:,:,2] < -5))\n",
    "#print(ids)\n",
    "#PredictionReducedImage[ids] = [255, 0, 0]\n",
    "#PredictionReducedImage = np.swapaxes(PredictionReducedImage,0,1)\n",
    "#PredictionFullImage = np.swapaxes(PredictionFullImage,0,1)\n",
    "\n",
    "# Show and save full prediction image\n",
    "fig = plt.figure()\n",
    "plt.imshow(PredictionFullImage)\n",
    "plt.show\n",
    "plt.imsave('../images/PredictionFull.png', PredictionFullImage)\n",
    "\n",
    "# Show and save reduced prediction image\n",
    "fig = plt.figure()\n",
    "plt.imshow(PredictionReducedImage)\n",
    "plt.show\n",
    "plt.imsave('../images/PredictionReduced.png', PredictionReducedImage)"
   ]
  },
  {
   "cell_type": "code",
   "execution_count": null,
   "metadata": {},
   "outputs": [],
   "source": [
    "CurrentTestLabelPath = TestPath + '/04/labels/000008.label'\n",
    "\n",
    "CurrentLabelFull = getLabelArrayFromPointCloud (TestPointCloud, CurrentTestLabelPath)\n",
    "CurrentLabelFull = np.expand_dims(CurrentLabelFull, axis=0)\n",
    "\n",
    "CurrentLabelReduced = CurrentLabelFull[0::,0::2,0::4]\n",
    "\n",
    "CurrentLabelFull = np.argmax(CurrentLabelFull,axis=3)\n",
    "CurrentLabelFull = CurrentLabelFull.squeeze()\n",
    "\n",
    "CurrentLabelReduced = np.argmax(CurrentLabelReduced,axis=3)\n",
    "CurrentLabelReduced = CurrentLabelReduced.squeeze()\n",
    "\n",
    "GroundTruthFullImage = PredictionToImage(CurrentLabelFull)\n",
    "GroundTruthReducedImage = PredictionToImage(CurrentLabelReduced)\n",
    "\n",
    "fig = plt.figure()\n",
    "plt.imshow(GroundTruthFullImage)\n",
    "plt.show\n",
    "plt.imsave('../images/GroundTruthFullImage.png', GroundTruthFullImage)\n",
    "\n",
    "fig = plt.figure()\n",
    "plt.imshow(GroundTruthReducedImage)\n",
    "plt.show\n",
    "plt.imsave('../images/GroundTruthReducedImage.png', GroundTruthReducedImage)"
   ]
  },
  {
   "cell_type": "code",
   "execution_count": null,
   "metadata": {
    "scrolled": true
   },
   "outputs": [],
   "source": [
    "# Create intensity histogram of full kitti data\n",
    "fig = plt.figure()\n",
    "print(CurrentTestSampleFull.shape)\n",
    "I = CurrentTestSampleFull[:,:,:,0].flatten()\n",
    "# print(I.shape)\n",
    "hist = plt.hist(I, bins='auto')\n",
    "plt.title(\"Intensity histogram of full kitti data\")\n",
    "plt.show()\n",
    "\n",
    "# Create intensity histogram of reduced kitti data\n",
    "fig = plt.figure()\n",
    "I = CurrentTestSampleReduced[:,:,:,0].flatten()\n",
    "print(I.shape)\n",
    "hist = plt.hist(I, bins='auto')  # arguments are passed to np.histogram\n",
    "plt.title(\"Intensity histogram of reduced kitti data\")\n",
    "plt.show()\n",
    "\n",
    "# Create range histogram of full kitti data\n",
    "fig = plt.figure()\n",
    "print(CurrentTestSampleFull.shape)\n",
    "I = CurrentTestSampleFull[:,:,:,1].flatten()\n",
    "# print(I.shape)\n",
    "hist = plt.hist(I, bins='auto')\n",
    "plt.title(\"Range histogram of full kitti data\")\n",
    "plt.show()\n",
    "\n",
    "# Create range histogram of reduced kitti data\n",
    "fig = plt.figure()\n",
    "I = CurrentTestSampleReduced[:,:,:,1].flatten()\n",
    "print(I.shape)\n",
    "hist = plt.hist(I, bins='auto')  # arguments are passed to np.histogram\n",
    "plt.title(\"Range histogram of reduced kitti data\")\n",
    "plt.show()"
   ]
  },
  {
   "cell_type": "markdown",
   "metadata": {},
   "source": [
    "## Predict BugaLog data"
   ]
  },
  {
   "cell_type": "code",
   "execution_count": 52,
   "metadata": {},
   "outputs": [
    {
     "name": "stdout",
     "output_type": "stream",
     "text": [
      "17.704252\n",
      "-2.743859\n"
     ]
    },
    {
     "data": {
      "image/png": "[encoded data removed]",
      "text/plain": [
       "<Figure size 432x288 with 1 Axes>"
      ]
     },
     "metadata": {
      "needs_background": "light"
     },
     "output_type": "display_data"
    }
   ],
   "source": [
    "PCDPATH = '../data/pcd_files/'\n",
    "current_pcd_path = PCDPATH + 'front_cloud_straße.pcd' #'top_cloud_git.pcd'\n",
    "\n",
    "PointCloud = SemLaserScan(20, KittiToColorDict, project=True, W=1440, H=16, fov_up=15, fov_down=-15.0)\n",
    "\n",
    "current_sample = getSampleArrayFromPointCloud_pcd(PointCloud, current_pcd_path)\n",
    "#print(current_sample.shape)\n",
    "#current_sample[:,:,2] = current_sample[:,:,2] -0.4#1.13 #+0.7 #- 1.13\n",
    "print(np.max(current_sample[:,:,2]))\n",
    "print(np.min(current_sample[:,:,2]))\n",
    "\n",
    "#current_sample = current_pcd\n",
    "current_sample = np.expand_dims(current_sample, axis=0)\n",
    "\n",
    "#current_sample = current_sample[0::,0::2,0::4]\n",
    "#current_sample[np.where(current_sample[:,:,:,0] > 0.4)] = [-1, -1]\n",
    "\n",
    "Prediction = model.predict(current_sample)\n",
    "\n",
    "Prediction = np.argmax(Prediction,axis=3)\n",
    "\n",
    "Prediction = Prediction.squeeze()\n",
    "\n",
    "BugaLogImage = PredictionToImage(Prediction)\n",
    "\n",
    "plt.imshow(BugaLogImage)\n",
    "plt.show\n",
    "plt.imsave('../images/BugaLogImage.png', BugaLogImage)"
   ]
  },
  {
   "cell_type": "code",
   "execution_count": null,
   "metadata": {
    "scrolled": false
   },
   "outputs": [],
   "source": [
    "fig = plt.figure()\n",
    "I = current_sample[:,:,:,0].flatten()\n",
    "print(I.shape)\n",
    "hist = plt.hist(I, bins='auto')  # arguments are passed to np.histogram\n",
    "plt.title(\"Intensity histogram of buga log data\")\n",
    "plt.show()\n",
    "\n",
    "fig = plt.figure()\n",
    "R = current_sample[:,:,:,1].flatten()\n",
    "print(R.shape)\n",
    "hist = plt.hist(R, bins='auto')  # arguments are passed to np.histogram\n",
    "plt.title(\"Range histogram of buga log data\")\n",
    "plt.show()"
   ]
  },
  {
   "cell_type": "markdown",
   "metadata": {},
   "source": [
    "# Create result point cloud (unfinished)"
   ]
  },
  {
   "cell_type": "code",
   "execution_count": 46,
   "metadata": {},
   "outputs": [
    {
     "name": "stdout",
     "output_type": "stream",
     "text": [
      "(1440, 16, 4)\n",
      "(1440, 16, 4)\n",
      "(23040, 4)\n",
      "(14446, 4)\n"
     ]
    }
   ],
   "source": [
    "#### import pcl\n",
    "intensity = Prediction\n",
    "\n",
    "input_cloud = current_sample.squeeze()\n",
    "\n",
    "print(input_cloud.shape)\n",
    "cloud = input_cloud.copy()\n",
    "cloud[:,:,3]=Prediction\n",
    "#cloud=cloud[:,:,0:4]\n",
    "# überprüfen ob 0:4 oder 1:5\n",
    "print(cloud.shape)\n",
    "\n",
    "#print(input_cloud[1,1,:])\n",
    "#print(cloud[1,1,:])\n",
    "\n",
    "\n",
    "cloud = np.reshape(cloud, (cloud.shape[0]*cloud.shape[1], 4))\n",
    "\n",
    "print(cloud.shape)\n",
    "\n",
    "cloud = cloud[cloud[:,1]!= -1]\n",
    "\n",
    "print(cloud.shape)\n",
    "\n",
    "p = pcl.PointCloud_PointXYZI(cloud)\n",
    "\n",
    "pcl.save(p, './newfrontcloud_straße.pcd')"
   ]
  },
  {
   "cell_type": "code",
   "execution_count": null,
   "metadata": {},
   "outputs": [],
   "source": [
    "import pptk\n",
    "import pandas as pd\n",
    "import numpy as np\n",
    "import pcl"
   ]
  },
  {
   "cell_type": "code",
   "execution_count": null,
   "metadata": {},
   "outputs": [],
   "source": [
    "Cloud = pcl.load_XYZI('./newcloud.pcd')"
   ]
  },
  {
   "cell_type": "code",
   "execution_count": null,
   "metadata": {},
   "outputs": [],
   "source": [
    "points = Cloud.to_array()\n",
    "XYZ = points[:100:,0:3]\n",
    "XYZ = pptk.rand(100,3)\n",
    "\n",
    "print(XYZ.shape)\n",
    "v = pptk.viewer(XYZ)\n",
    "#v.attributes(points[:,3])\n",
    "#v.set(point_size=0.005)"
   ]
  },
  {
   "cell_type": "code",
   "execution_count": null,
   "metadata": {},
   "outputs": [],
   "source": []
  }
 ],
 "metadata": {
  "kernelspec": {
   "display_name": "Python 3",
   "language": "python",
   "name": "python3"
  },
  "language_info": {
   "codemirror_mode": {
    "name": "ipython",
    "version": 3
   },
   "file_extension": ".py",
   "mimetype": "text/x-python",
   "name": "python",
   "nbconvert_exporter": "python",
   "pygments_lexer": "ipython3",
   "version": "3.7.7"
  }
 },
 "nbformat": 4,
 "nbformat_minor": 4
}
